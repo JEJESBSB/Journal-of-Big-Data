{
 "cells": [
  {
   "cell_type": "code",
   "execution_count": 1,
   "id": "e6bb2429",
   "metadata": {
    "scrolled": false
   },
   "outputs": [],
   "source": [
    "import pandas as pd\n",
    "import numpy as np\n",
    "import matplotlib.pyplot as plt\n",
    "import matplotlib\n",
    "import warnings\n",
    "warnings.filterwarnings(\"ignore\")\n",
    "import os.path\n",
    "import os,re\n",
    "import glob\n",
    "import pprint\n",
    "import pathlib\n",
    "import threading\n",
    "import time\n",
    "import joblib\n",
    "from pandas import DataFrame\n",
    "from datetime import datetime,timedelta\n",
    "import datetime\n",
    "import tensorflow as tf\n",
    "from tensorflow.keras import layers\n",
    "from tensorflow.keras.layers import Dense\n",
    "from tensorflow.keras.models import Sequential\n",
    "from tensorflow.keras.callbacks import ModelCheckpoint\n",
    "import joblib\n",
    "from tensorflow import keras\n",
    "from sklearn.utils import shuffle"
   ]
  },
  {
   "cell_type": "markdown",
   "id": "7d2636ba",
   "metadata": {},
   "source": [
    "### Extracting Images"
   ]
  },
  {
   "cell_type": "code",
   "execution_count": 2,
   "id": "93b804ea",
   "metadata": {},
   "outputs": [],
   "source": [
    "file_destination = r'C:\\Users\\SM-PC\\BDJ\\BDJ_Spectrogram_Testset'\n",
    "import cv2\n",
    "\n",
    "image_w = 32\n",
    "image_h = 32\n",
    "\n",
    "X = []\n",
    "Y = []\n",
    "for f in glob.glob(file_destination + \"/*.jpg\"):\n",
    "    img = cv2.imread(f)\n",
    "    img = cv2.resize(img, (image_w, image_h))\n",
    "    X.append(img)"
   ]
  },
  {
   "cell_type": "code",
   "execution_count": 3,
   "id": "c7f5dea4",
   "metadata": {},
   "outputs": [],
   "source": [
    "ls = []\n",
    "for f in os.listdir(file_destination):\n",
    "#      print((f.split('_')[0:2][0])+'_'+(f.split('_')[0:2][1]))\n",
    "#     print(f.split('_')[0])\n",
    "     labels = (f.split('_')[0:2][0])+'_'+(f.split('_')[0:2][1])\n",
    "     ls.append(labels)"
   ]
  },
  {
   "cell_type": "code",
   "execution_count": 4,
   "id": "1b6d7062",
   "metadata": {
    "scrolled": true
   },
   "outputs": [
    {
     "data": {
      "text/plain": [
       "array(['axis_11', 'axis_11', 'axis_11', ..., 'rotating_5d5',\n",
       "       'rotating_5d5', 'rotating_5d5'], dtype='<U12')"
      ]
     },
     "execution_count": 4,
     "metadata": {},
     "output_type": "execute_result"
    }
   ],
   "source": [
    "from sklearn.preprocessing import LabelEncoder\n",
    "encoder = LabelEncoder()\n",
    "encoder.fit(ls)\n",
    "label = encoder.transform(ls)\n",
    "# print the decoded labels\n",
    "encoder.inverse_transform(label)"
   ]
  },
  {
   "cell_type": "code",
   "execution_count": 5,
   "id": "8e94a8fd",
   "metadata": {},
   "outputs": [],
   "source": [
    "from keras.utils import np_utils\n",
    "label_cat = np_utils.to_categorical(label)"
   ]
  },
  {
   "cell_type": "code",
   "execution_count": 6,
   "id": "84740e4e",
   "metadata": {},
   "outputs": [],
   "source": [
    "X = np.array(X)\n",
    "Y = np.array(label_cat)\n",
    "# print(X,Y)"
   ]
  },
  {
   "cell_type": "code",
   "execution_count": 7,
   "id": "12d99d0d",
   "metadata": {},
   "outputs": [],
   "source": [
    "X = X.astype(\"float\") / 255.0"
   ]
  },
  {
   "cell_type": "code",
   "execution_count": 8,
   "id": "fc0beca6",
   "metadata": {},
   "outputs": [],
   "source": [
    "from keras.models import Sequential,Model\n",
    "from keras.layers import MaxPooling2D,MaxPooling3D,UpSampling2D,Input,Conv2DTranspose\n",
    "from keras.layers import Conv2D,Conv3D\n",
    "from keras.layers import Activation, Dropout, Flatten, Dense, GlobalAveragePooling2D\n",
    "from keras.layers import BatchNormalization, Dropout"
   ]
  },
  {
   "cell_type": "code",
   "execution_count": 9,
   "id": "309f63cd",
   "metadata": {},
   "outputs": [
    {
     "name": "stdout",
     "output_type": "stream",
     "text": [
      "Model: \"sequential_1\"\n",
      "_________________________________________________________________\n",
      " Layer (type)                Output Shape              Param #   \n",
      "=================================================================\n",
      " conv2d_4 (Conv2D)           (None, 32, 32, 16)        448       \n",
      "                                                                 \n",
      " conv2d_5 (Conv2D)           (None, 32, 32, 16)        2320      \n",
      "                                                                 \n",
      " max_pooling2d_2 (MaxPooling  (None, 16, 16, 16)       0         \n",
      " 2D)                                                             \n",
      "                                                                 \n",
      " conv2d_6 (Conv2D)           (None, 16, 16, 16)        2320      \n",
      "                                                                 \n",
      " conv2d_7 (Conv2D)           (None, 16, 16, 128)       18560     \n",
      "                                                                 \n",
      " max_pooling2d_3 (MaxPooling  (None, 8, 8, 128)        0         \n",
      " 2D)                                                             \n",
      "                                                                 \n",
      " flatten_1 (Flatten)         (None, 8192)              0         \n",
      "                                                                 \n",
      " dense_3 (Dense)             (None, 32)                262176    \n",
      "                                                                 \n",
      " dense_4 (Dense)             (None, 32)                1056      \n",
      "                                                                 \n",
      " dense_5 (Dense)             (None, 43)                1419      \n",
      "                                                                 \n",
      "=================================================================\n",
      "Total params: 288,299\n",
      "Trainable params: 288,299\n",
      "Non-trainable params: 0\n",
      "_________________________________________________________________\n"
     ]
    }
   ],
   "source": [
    "from keras.models import load_model\n",
    "model9_test = keras.models.load_model(\"BDJ_CNN_Models/history9.h5\")\n",
    "\n",
    "# Print the model summary\n",
    "model9_test.summary()"
   ]
  },
  {
   "cell_type": "code",
   "execution_count": 10,
   "id": "46a06180",
   "metadata": {},
   "outputs": [
    {
     "name": "stdout",
     "output_type": "stream",
     "text": [
      "1344/1344 [==============================] - 4s 1ms/step - loss: 1.3487 - accuracy: 0.7636\n"
     ]
    },
    {
     "data": {
      "text/plain": [
       "[1.3487411737442017, 0.763581395149231]"
      ]
     },
     "execution_count": 10,
     "metadata": {},
     "output_type": "execute_result"
    }
   ],
   "source": [
    "model9_test.evaluate(X,Y)"
   ]
  },
  {
   "cell_type": "code",
   "execution_count": null,
   "id": "702633fd",
   "metadata": {},
   "outputs": [],
   "source": []
  },
  {
   "cell_type": "code",
   "execution_count": null,
   "id": "28b1403d",
   "metadata": {},
   "outputs": [],
   "source": []
  },
  {
   "cell_type": "code",
   "execution_count": null,
   "id": "e55b4560",
   "metadata": {},
   "outputs": [],
   "source": []
  },
  {
   "cell_type": "code",
   "execution_count": null,
   "id": "da7d3de9",
   "metadata": {},
   "outputs": [],
   "source": []
  },
  {
   "cell_type": "code",
   "execution_count": null,
   "id": "fead43c6",
   "metadata": {},
   "outputs": [],
   "source": []
  },
  {
   "cell_type": "code",
   "execution_count": null,
   "id": "7d8d80de",
   "metadata": {},
   "outputs": [],
   "source": []
  }
 ],
 "metadata": {
  "kernelspec": {
   "display_name": "Python 3 (ipykernel)",
   "language": "python",
   "name": "python3"
  },
  "language_info": {
   "codemirror_mode": {
    "name": "ipython",
    "version": 3
   },
   "file_extension": ".py",
   "mimetype": "text/x-python",
   "name": "python",
   "nbconvert_exporter": "python",
   "pygments_lexer": "ipython3",
   "version": "3.10.10"
  }
 },
 "nbformat": 4,
 "nbformat_minor": 5
}
