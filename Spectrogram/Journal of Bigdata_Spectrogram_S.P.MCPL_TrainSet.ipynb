{
 "cells": [
  {
   "cell_type": "code",
   "execution_count": 1,
   "id": "633f1b5a",
   "metadata": {
    "scrolled": true
   },
   "outputs": [],
   "source": [
    "import pandas as pd\n",
    "import numpy as np\n",
    "import matplotlib.pyplot as plt\n",
    "import matplotlib\n",
    "import warnings\n",
    "warnings.filterwarnings(\"ignore\")\n",
    "import os.path\n",
    "import os,re\n",
    "import glob\n",
    "import pprint\n",
    "import pathlib\n",
    "import threading\n",
    "import time\n",
    "import joblib\n",
    "from pandas import DataFrame\n",
    "from datetime import datetime,timedelta\n",
    "import datetime\n",
    "from sklearn.utils import shuffle"
   ]
  },
  {
   "cell_type": "code",
   "execution_count": 11,
   "id": "64dc05b3",
   "metadata": {},
   "outputs": [],
   "source": [
    "# Korean\n",
    "from matplotlib import font_manager, rc\n",
    "font_path = \"C:/Windows/Fonts/Hancom Gothic Regular.ttf\"\n",
    "font = font_manager.FontProperties(fname=font_path).get_name()\n",
    "rc('font', family=font)\n",
    "plt.rcParams['axes.unicode_minus'] = False"
   ]
  },
  {
   "cell_type": "code",
   "execution_count": 2,
   "id": "23a80660",
   "metadata": {},
   "outputs": [],
   "source": [
    "plt.rcParams['axes.unicode_minus'] = False\n",
    "get_ipython().run_line_magic('config', \"InlineBackend.figure_format='retina'\")"
   ]
  },
  {
   "cell_type": "markdown",
   "id": "dd7bfe39",
   "metadata": {},
   "source": [
    "### Raw Data"
   ]
  },
  {
   "cell_type": "code",
   "execution_count": 3,
   "id": "675a7dd4",
   "metadata": {},
   "outputs": [],
   "source": [
    "def making_data(Kw,Type,num):\n",
    "    dir_path = \"C:/Users/SM-PC/BDJ/기계시설물 고장 예지 센서/Training/vibration/vibration\"\n",
    "    files = glob.glob(os.path.join(dir_path+'/'+Kw+'/*/'+Type,'*.*'),\n",
    "                      recursive=True)[:num]\n",
    "    pieces = []\n",
    "    files_arr = []\n",
    "    for i in range(len(files)):\n",
    "        file = files[i]       \n",
    "        frame = pd.read_csv(file,skiprows=8)\n",
    "        frame.drop(frame.columns[[2]],axis=1,inplace=True)\n",
    "        frame.columns=['time','data']\n",
    "        frame.set_index('time',inplace=True)\n",
    "        pieces.append(frame)\n",
    "    df = pd.concat(pieces,ignore_index=True,axis=1)\n",
    "    return df"
   ]
  },
  {
   "cell_type": "markdown",
   "id": "914275ce",
   "metadata": {},
   "source": [
    "### Kind of states and power\n",
    "\n",
    "#### 1. Kind of states\n",
    "- #####  정상 : Normal, \n",
    "- ##### 베어링 : Bearing defect, \n",
    "- ##### 회전체: Rotational defect, \n",
    "- ##### 축정렬: Axis missalignment, \n",
    "- ##### 벨트: Belt looseness\n",
    "\n",
    "#### 2. Kind of power with states \n",
    "- 2.2 :  Normal, Bearing,Rotation,Axis,Belt \n",
    "- 3.7 : Normal, Bearing,Rotation,Axis \n",
    "- 3.75 : Normal, Axis\n",
    "- 5.5 : Normal, Bearing, Rotation,Axis,Belt\n",
    "- 7.5 :  Normal, Bearing,Axis,Belt\n",
    "- 11 : Normal, Bearing,Rotation,Axis,Belt \n",
    "- 15 : Normal, Bearing,Rotation,Belt \n",
    "- 18.5 : Normal, Bearing,Belt \n",
    "- 22 : Normal,Rotation,Axis,Belt \n",
    "- 30 : Normal, Axis\n",
    "- 37 : Normal, Axis \n",
    "- 55 : Normal, Rotation,Belt "
   ]
  },
  {
   "cell_type": "markdown",
   "id": "b3b10241",
   "metadata": {},
   "source": [
    "### Making DataFrame per each state with power"
   ]
  },
  {
   "cell_type": "code",
   "execution_count": null,
   "id": "e0fcaa4d",
   "metadata": {},
   "outputs": [],
   "source": [
    "# normal\n",
    "kw = ['2.2kW', '3.7kW', '3.75kW', '5.5kW','7.5kW','11kW', '15kW', '18.5kW', '22kW', '30kW', '37kW', '55kW']\n",
    "arr = []\n",
    "for i in range(len(kw)):\n",
    "    a = making_data(kw[i],'정상',10000)\n",
    "    arr.append(a)\n",
    "    a_name = ['2d2', '3d7', '3d75', '5d5','7d5','11', '15', '18d5', '22', '30', '37', '55']\n",
    "    globals()['normal{}'.format(a_name[i])]=arr[i]"
   ]
  },
  {
   "cell_type": "code",
   "execution_count": 90,
   "id": "2efe4179",
   "metadata": {},
   "outputs": [],
   "source": [
    "# bearing\n",
    "kw = ['2.2kW', '3.7kW', '5.5kW','7.5kW','11kW', '15kW', '18.5kW']\n",
    "arr = []\n",
    "for i in range(len(kw)):\n",
    "    a = making_data(kw[i],'베어링불량',1000)\n",
    "    arr.append(a)\n",
    "    a_name = ['2d2', '3d7', '5d5','7d5','11', '15', '18d5']\n",
    "    globals()['bearing{}'.format(a_name[i])]=arr[i]"
   ]
  },
  {
   "cell_type": "code",
   "execution_count": 91,
   "id": "5fefd071",
   "metadata": {},
   "outputs": [],
   "source": [
    "# rotating\n",
    "kw = ['2.2kW', '3.7kW', '5.5kW','11kW', '15kW', '22kW', '55kW']\n",
    "arr = []\n",
    "for i in range(len(kw)):\n",
    "    a = making_data(kw[i],'회전체불평형',1000)\n",
    "    arr.append(a)\n",
    "    a_name = ['2d2', '3d7', '5d5', '11', '15', '22', '55']  \n",
    "    globals()['rotating{}'.format(a_name[i])]=arr[i]"
   ]
  },
  {
   "cell_type": "code",
   "execution_count": 93,
   "id": "610a9580",
   "metadata": {},
   "outputs": [],
   "source": [
    "# axis\n",
    "kw = ['2.2kW', '3.7kW', '3.75kW', '5.5kW','7.5kW','11kW', '22kW', '30kW', '37kW']\n",
    "arr = []\n",
    "for i in range(len(kw)):\n",
    "    a = making_data(kw[i],'축정렬불량',1000)\n",
    "    arr.append(a)\n",
    "    a_name = ['2d2', '3d7', '3d75', '5d5','7d5','11', '22', '30', '37']\n",
    "    globals()['axis{}'.format(a_name[i])]=arr[i]"
   ]
  },
  {
   "cell_type": "code",
   "execution_count": 95,
   "id": "48930484",
   "metadata": {},
   "outputs": [],
   "source": [
    "# belt looseness\n",
    "kw = ['2.2kW', '5.5kW','7.5kW','11kW', '15kW', '18.5kW', '22kW', '55kW']\n",
    "for i in range(len(kw)):\n",
    "    a = making_data(kw[i],'벨트느슨함',1000)\n",
    "    arr.append(a)\n",
    "    a_name = ['2d2', '5d5','7d5','11', '15', '18d5', '22', '55']\n",
    "    globals()['belt{}'.format(a_name[i])]=arr[i]"
   ]
  },
  {
   "cell_type": "markdown",
   "id": "0565d3cd",
   "metadata": {},
   "source": [
    "### Making Spectrogram"
   ]
  },
  {
   "cell_type": "code",
   "execution_count": 96,
   "id": "e0ffa090",
   "metadata": {},
   "outputs": [],
   "source": [
    "import pylab \n",
    "from scipy import signal\n",
    "path = r'C:/Users/SM-PC/BDJ/BDJ_Spectrogram_deep'"
   ]
  },
  {
   "cell_type": "code",
   "execution_count": 97,
   "id": "be2e3206",
   "metadata": {},
   "outputs": [],
   "source": [
    "import time\n",
    "import threading"
   ]
  },
  {
   "cell_type": "code",
   "execution_count": 110,
   "id": "152dfff2",
   "metadata": {},
   "outputs": [],
   "source": [
    "def spectrogram1(df):\n",
    "    ## Spectrogram type 1\n",
    "    Fs=4000\n",
    "    f, tt, Sxx = signal.spectrogram(df, Fs)\n",
    "    plt.pcolormesh(tt, f, Sxx, shading='gouraud')\n",
    "    plt.ylim(0, 2000)\n",
    "    plt.axis('off')\n",
    "    plt.tight_layout()\n",
    "    plt.savefig(os.path.join(path+'/sp1',Type+'_'+kw[j]+'_'+str(i)+'.jpg'))\n",
    "    plt.close()"
   ]
  },
  {
   "cell_type": "code",
   "execution_count": 111,
   "id": "c62caa98",
   "metadata": {},
   "outputs": [],
   "source": [
    "kw = ['2d2', '3d7', '3d75', '5d5','7d5','11', '15', '18d5', '22', '30', '37', '55']\n",
    "Type = 'normal'"
   ]
  },
  {
   "cell_type": "code",
   "execution_count": 112,
   "id": "2ae959b9",
   "metadata": {
    "scrolled": true
   },
   "outputs": [
    {
     "name": "stdout",
     "output_type": "stream",
     "text": [
      "0:13:24\n"
     ]
    }
   ],
   "source": [
    "#change kw and Type\n",
    "start  = time.time()\n",
    "for i in range(1000):\n",
    "    for j in range(len(kw)):\n",
    "            spectrogram1(globals()['normal{}'.format(kw[j])][i])\n",
    "\n",
    "end = time.time()\n",
    "sec = (end - start)\n",
    "result_list = str(datetime.timedelta(seconds=sec)).split(\".\")\n",
    "print(result_list[0])"
   ]
  },
  {
   "cell_type": "code",
   "execution_count": 113,
   "id": "47986259",
   "metadata": {},
   "outputs": [],
   "source": [
    "kw = ['2d2', '3d7', '5d5','7d5','11', '15', '18d5']\n",
    "Type = 'bearing'"
   ]
  },
  {
   "cell_type": "code",
   "execution_count": 114,
   "id": "8f9a3f91",
   "metadata": {},
   "outputs": [
    {
     "name": "stdout",
     "output_type": "stream",
     "text": [
      "0:08:30\n"
     ]
    }
   ],
   "source": [
    "#change kw and Type\n",
    "start  = time.time()\n",
    "for i in range(1000):\n",
    "    for j in range(len(kw)):\n",
    "            spectrogram1(globals()['bearing{}'.format(kw[j])][i])\n",
    "\n",
    "end = time.time()\n",
    "sec = (end - start)\n",
    "result_list = str(datetime.timedelta(seconds=sec)).split(\".\")\n",
    "print(result_list[0])"
   ]
  },
  {
   "cell_type": "code",
   "execution_count": 115,
   "id": "c8d071cf",
   "metadata": {},
   "outputs": [],
   "source": [
    "kw = ['2d2', '3d7', '5d5', '11', '15', '22', '55']\n",
    "Type = 'rotating'"
   ]
  },
  {
   "cell_type": "code",
   "execution_count": 116,
   "id": "27d17c2f",
   "metadata": {},
   "outputs": [
    {
     "name": "stdout",
     "output_type": "stream",
     "text": [
      "0:08:13\n"
     ]
    }
   ],
   "source": [
    "#change kw and Type\n",
    "start  = time.time()\n",
    "for i in range(1000):\n",
    "    for j in range(len(kw)):\n",
    "            spectrogram1(globals()['rotating{}'.format(kw[j])][i])\n",
    "\n",
    "end = time.time()\n",
    "sec = (end - start)\n",
    "result_list = str(datetime.timedelta(seconds=sec)).split(\".\")\n",
    "print(result_list[0])"
   ]
  },
  {
   "cell_type": "code",
   "execution_count": 117,
   "id": "f3dd99c1",
   "metadata": {},
   "outputs": [],
   "source": [
    "kw = ['2d2', '3d7', '3d75', '5d5','7d5','11', '22', '30', '37']\n",
    "Type = 'axis'"
   ]
  },
  {
   "cell_type": "code",
   "execution_count": 118,
   "id": "9fafd0e5",
   "metadata": {},
   "outputs": [
    {
     "name": "stdout",
     "output_type": "stream",
     "text": [
      "0:10:35\n"
     ]
    }
   ],
   "source": [
    "#change kw and Type\n",
    "start  = time.time()\n",
    "for i in range(1000):\n",
    "    for j in range(len(kw)):\n",
    "            spectrogram1(globals()['axis{}'.format(kw[j])][i])\n",
    "\n",
    "end = time.time()\n",
    "sec = (end - start)\n",
    "result_list = str(datetime.timedelta(seconds=sec)).split(\".\")\n",
    "print(result_list[0])"
   ]
  },
  {
   "cell_type": "code",
   "execution_count": 119,
   "id": "a4698410",
   "metadata": {},
   "outputs": [],
   "source": [
    "kw = ['2d2', '5d5','7d5','11', '15', '18d5', '22', '55']\n",
    "Type = 'belt'"
   ]
  },
  {
   "cell_type": "code",
   "execution_count": 120,
   "id": "7823dd47",
   "metadata": {},
   "outputs": [
    {
     "name": "stdout",
     "output_type": "stream",
     "text": [
      "0:09:25\n"
     ]
    }
   ],
   "source": [
    "#change kw and Type\n",
    "start  = time.time()\n",
    "for i in range(1000):\n",
    "    for j in range(len(kw)):\n",
    "            spectrogram1(globals()['belt{}'.format(kw[j])][i])\n",
    "\n",
    "end = time.time()\n",
    "sec = (end - start)\n",
    "result_list = str(datetime.timedelta(seconds=sec)).split(\".\")\n",
    "print(result_list[0])"
   ]
  }
 ],
 "metadata": {
  "kernelspec": {
   "display_name": "Python 3 (ipykernel)",
   "language": "python",
   "name": "python3"
  },
  "language_info": {
   "codemirror_mode": {
    "name": "ipython",
    "version": 3
   },
   "file_extension": ".py",
   "mimetype": "text/x-python",
   "name": "python",
   "nbconvert_exporter": "python",
   "pygments_lexer": "ipython3",
   "version": "3.10.10"
  }
 },
 "nbformat": 4,
 "nbformat_minor": 5
}
